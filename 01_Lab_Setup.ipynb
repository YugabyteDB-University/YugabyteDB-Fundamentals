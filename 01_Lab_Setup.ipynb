{
 "cells": [
  {
   "attachments": {},
   "cell_type": "markdown",
   "metadata": {
    "deletable": false,
    "editable": false
   },
   "source": [
    "<div style=\"width:100%; background-color: #000041\"><a target=\"_blank\" href=\"http://university.yugabyte.com\"><img src=\"assets/YBU_Logo.png\" /></a></div><br>\n",
    "\n",
    "> **YugabyteDB YSQL Development**\n",
    ">\n",
    "> Enroll for free  [Yugabyte University](https://university.yugabyte.com/courses/yugabytedb-ysql-development).\n",
    ">\n",
    "\n",
    "<br>\n",
    "This notebook file is:\n",
    "\n",
    "`01_Lab_Setup.ipynb`"
   ]
  },
  {
   "attachments": {},
   "cell_type": "markdown",
   "metadata": {},
   "source": [
    "# About these notebook Labs\n",
    "The labs for this course consists of several Jupyter notebooks that run in Gitpod. [Gitpod](https://www.gitpod.io/) facilitates runtime environments using Ubuntu and VS Code in a Chromium (browser) environment. \n",
    "\n",
    "A Gitpod instance belongs to your Gitpod workspace. The instance automatically runs a three node, YugabyteDB database cluster. YugabyteDB is the world's #1 open source, distributed SQL database. \n",
    "\n",
    "> Although a three node cluster is up and running, Gitpod does not support visiting loopback addresses over a web ui, even if exposed on a different port.\n",
    "> 127.0.0.1 is the only web user interface that is exposed. To see all available ports in Gitpod, in the Terminal tab, you can run `gp ports list`.\n",
    "> "
   ]
  },
  {
   "attachments": {},
   "cell_type": "markdown",
   "metadata": {},
   "source": [
    "## 🛠️ Requirements\n",
    "Here are the requirements for this lab:\n",
    "- ✅ Launch using this Gitpod workspace, which you are already doing\n",
    "- ✅ A running, standalone MySQL database, which is already running\n",
    "- ✅ A running, 3 node YugabyteDB cluster, which is already running\n",
    "- ☑️ A Python 3.12 or higher kernel for the notebook, *which you need to select right now!!!*\n",
    "- ☑️ Fix Pop-ups Blocked, *which you need to select right now!!!*\n",
    "- ☑️ Connect to YugabyteDB with `ysqlsh`, YSQL shell, and create the database, *which you need to do next*\n",
    "\n",
    "### Select your notebook kernel\n",
    "- In the Notebook toolbar, click **Select Kernel**.\n",
    "<br>\n",
    "<img width=50% src=\"assets/01_01_Select_Kernel_Toolbar.png\" />\n",
    "\n",
    "- Next, in the dropdown, select **Python 3.12** or higher.\n",
    "<br>\n",
    "<img width=50% src=\"assets/01_02_Select_Kernel_Dropdown.png\" />\n",
    "\n",
    "### Fix Pop-ups Blocked\n",
    "- In your Chromium browser, select the Pop-ups Blocked icon in the browser address bar.\n",
    "- In the dialog, select **Always allow**. This lets you view the YugabyteD web user interface on port `15433`.\n",
    "  <br>\n",
    "  <img width=50% src=\"assets/01_03_Popups_Blocked.png\" />\n",
    "\n",
    "<br>\n",
    "That's it!"
   ]
  },
  {
   "attachments": {},
   "cell_type": "markdown",
   "metadata": {},
   "source": [
    "## About Jupyter notebooks"
   ]
  },
  {
   "attachments": {},
   "cell_type": "markdown",
   "metadata": {},
   "source": [
    "A Juypter notebook is a runtime environment for executing code. A notebook consists of one or more cells. There are three types of cells in a notebook: Markdown, Code, and Output. This is a Markdown cell.\n",
    "\n",
    "A cell has two modes: read-mode and edit-mode. By default, the cells in a notebook are in read-mode. You can run a read-mode cell that is code. To execute a code cell, select the play icon in the cell's left gutter. \n",
    "\n",
    "The execution of a code cell often results in Output. An Output cell shows the `stdout` of the previous executed code cell. You can delete an Output cell. You can also collapse the cell. In addition, you can also select `Clear Outputs of All Cells`.\n",
    "\n",
    "To modify a cell, select `Enter` or `Return`. In edit-mode, you can modify the contents of a cell. Certain labs contain challenges or experiments that require you to do just that: modify a code cell and re-run it! To switch from edit-mode to read-mode, use the `Shift+Enter` or `Shift+Return` keystroke."
   ]
  },
  {
   "attachments": {},
   "cell_type": "markdown",
   "metadata": {
    "deletable": false,
    "editable": false
   },
   "source": [
    "#### Notebook keyboard shortcuts\n",
    "The Jupyter extension for Gitpod supports the following keyboard shortcuts:\n",
    "\n",
    "| Keystroke | Description |\n",
    "|--|--|\n",
    "| ESC | Change the cell mode |\n",
    "| A | Add a cell above |\n",
    "| B | Add a cell below |\n",
    "| J or down arrow key |  Change a cell to below | \n",
    "| K or up arrow key | Change a cell to above | \n",
    "| Ctrl+Enter | Run the currently selected cell |\n",
    "| Shift+Enter | Run the currently selected cell and insert a new cell immediately below (focus moves to new cell) |\n",
    "| Alt+Enter | Run the currently selected cell and insert a new cell immediately below (focus remains on current cell) |\n",
    "| dd | Delete a selected cell |\n",
    "| z | Undo the last change | \n",
    "| M | switch the cell type to Markdown | \n",
    "| Y | switch the cell type to code |\n",
    "| L | Enable/Disable line numbers |\n",
    "\n"
   ]
  },
  {
   "attachments": {},
   "cell_type": "markdown",
   "metadata": {},
   "source": [
    "## ⛑️ Getting help\n",
    "The best way to get help from the Yugabyte University team is to post your question on YugabyteDB Community Slack in the #training or #yb-university channels. To sign up, visit [https://communityinviter.com/apps/yugabyte-db/register](https://communityinviter.com/apps/yugabyte-db/register)."
   ]
  },
  {
   "attachments": {},
   "cell_type": "markdown",
   "metadata": {
    "deletable": false,
    "editable": false
   },
   "source": [
    "\n",
    "# 👣 Setup steps\n",
    "Here are the steps to setup this lab:\n",
    "- Create the notebook variables\n",
    "- Create the {{ MY_DB_NAME }}` database"
   ]
  },
  {
   "attachments": {},
   "cell_type": "markdown",
   "metadata": {
    "deletable": false,
    "editable": false
   },
   "source": [
    "### 👇 Create the notebook variables \n",
    "\n",
    "> 👉 IMPORTANT! 👈\n",
    "> \n",
    "> Do **NOT** skip running this cell. \n",
    "> \n",
    "\n",
    "The following Python cell creates and stores variables that all the notebooks in this lab will use. You can view these variables in the Jupyter tab.\n",
    "\n",
    "- To run the script, select Execute Cell (Play Arrow) in the left gutter of the cell.\n",
    "- Verify the accuracy of the output values\n",
    "\n",
    "👇 👇 👇 "
   ]
  },
  {
   "cell_type": "code",
   "execution_count": 2,
   "metadata": {
    "deletable": false,
    "editable": false
   },
   "outputs": [
    {
     "name": "stdout",
     "output_type": "stream",
     "text": [
      "Stored 'MY_YB_PATH' (str)\n",
      "Stored 'MY_YB_PATH_DATA' (str)\n",
      "Stored 'MY_GITPOD_WORKSPACE_URL' (str)\n",
      "Stored 'MY_DB_NAME' (str)\n",
      "Stored 'MY_DB_PORT' (str)\n",
      "Stored 'MY_HOST_IPv4_01' (str)\n",
      "Stored 'MY_HOST_IPv4_02' (str)\n",
      "Stored 'MY_HOST_IPv4_03' (str)\n",
      "Stored 'MY_MASTER_WEB_PORT' (str)\n",
      "Stored 'MY_TSERVER_WEBSERVER_PORT' (str)\n",
      "Stored 'MY_YUGABYTED_WEB_UI_PORT' (str)\n",
      "Stored 'MY_YB_MASTER_HOST_GITPOD_URL' (str)\n",
      "Stored 'MY_YB_TSERVER_HOST_GITPOD_URL' (str)\n",
      "Stored 'MY_YUGABYTED_UI_HOST_GITPOD_URL' (str)\n",
      "Stored 'MY_NOTEBOOK_DIR' (str)\n",
      "Stored 'MY_NOTEBOOK_DATA_FOLDER' (str)\n",
      "Stored 'MY_NOTEBOOK_UTILS_FOLDER' (str)\n",
      "Stored 'MY_TPCC_PATH' (str)\n"
     ]
    }
   ],
   "source": [
    "# Env variables for Notebook\n",
    "import os\n",
    "\n",
    "# read env_vars.env\n",
    "env_vars = !cat env_vars.env\n",
    "for var in env_vars:\n",
    "    key, value = var.split('=')\n",
    "    os.environ[key] = value\n",
    "\n",
    "### Begin: Gitpod or local\n",
    "#\n",
    "### Uncomment Gitpod specific\n",
    "#\n",
    "# MY_YB_PATH=os.environ.get('MY_YB_PATH_GITPOD')\n",
    "# MY_YB_PATH_DATA=os.environ.get('MY_YB_PATH_DATA_GITPOD')\n",
    "# MY_GITPOD_WORKSPACE_URL=os.environ.get('GITPOD_WORKSPACE_URL')\n",
    "\n",
    "### Comment out Local \n",
    "#\n",
    "MY_YB_PATH=os.environ.get('MY_YB_PATH_LOCAL')\n",
    "MY_YB_PATH_DATA=os.environ.get('MY_YB_PATH_DATA_LOCAL')\n",
    "MY_GITPOD_WORKSPACE_URL=os.environ.get('MY_GITPOD_WORKSPACE_URL_LOCAL')\n",
    "##\n",
    "### End: Gitpod or local\n",
    "\n",
    "# env_vars defines the following\n",
    "MY_DB_NAME=os.environ.get('MY_DB_NAME')\n",
    "MY_DB_PORT=os.environ.get('MY_YSQL_PORT')\n",
    "\n",
    "MY_HOST_IPv4_01=os.environ.get('MY_HOST_IPv4_01')\n",
    "MY_HOST_IPv4_02=os.environ.get('MY_HOST_IPv4_02')\n",
    "MY_HOST_IPv4_03=os.environ.get('MY_HOST_IPv4_03')\n",
    "\n",
    "MY_MASTER_WEB_PORT=os.environ.get('MY_MASTER_WEB_PORT')\n",
    "MY_TSERVER_WEBSERVER_PORT=os.environ.get('MY_TSERVER_WEBSERVER_PORT')\n",
    "MY_YUGABYTED_WEB_UI_PORT=os.environ.get('MY_YUGABYTED_WEB_UI_PORT')\n",
    "\n",
    "MY_YB_MASTER_HOST_GITPOD_URL = MY_GITPOD_WORKSPACE_URL.replace('https://','https://'+MY_MASTER_WEB_PORT+'-')\n",
    "MY_YB_TSERVER_HOST_GITPOD_URL = MY_GITPOD_WORKSPACE_URL.replace('https://','https://'+MY_TSERVER_WEBSERVER_PORT+'-')\n",
    "MY_YUGABYTED_UI_HOST_GITPOD_URL = MY_GITPOD_WORKSPACE_URL.replace('https://','https://'+MY_YUGABYTED_WEB_UI_PORT+'-')\n",
    "\n",
    "\n",
    "# Current directory of project and related child folders\n",
    "MY_NOTEBOOK_DIR=os.getcwd()\n",
    "MY_NOTEBOOK_TMP=MY_NOTEBOOK_DIR +'/tmp'\n",
    "MY_NOTEBOOK_DATA_FOLDER=MY_NOTEBOOK_DIR + '/data'\n",
    "MY_NOTEBOOK_UTILS_FOLDER=MY_NOTEBOOK_DIR + '/utils'\n",
    "\n",
    "# TPCC\n",
    "MY_TPCC_PATH=os.environ.get('MY_TPCC_PATH')\n",
    "MY_TPCC_WORKLOAD_FILE=MY_NOTEBOOK_TMP+'/my_workload_all.xml'\n",
    "# Store the note book values for other notebooks to use\n",
    "\n",
    "%store MY_YB_PATH\n",
    "%store MY_YB_PATH_DATA\n",
    "%store MY_GITPOD_WORKSPACE_URL\n",
    "\n",
    "%store MY_DB_NAME\n",
    "%store MY_DB_PORT\n",
    "\n",
    "%store MY_HOST_IPv4_01\n",
    "%store MY_HOST_IPv4_02\n",
    "%store MY_HOST_IPv4_03\n",
    "\n",
    "%store MY_MASTER_WEB_PORT\n",
    "%store MY_TSERVER_WEBSERVER_PORT\n",
    "%store MY_YUGABYTED_WEB_UI_PORT\n",
    "\n",
    "%store MY_YB_MASTER_HOST_GITPOD_URL\n",
    "%store MY_YB_TSERVER_HOST_GITPOD_URL\n",
    "%store MY_YUGABYTED_UI_HOST_GITPOD_URL\n",
    "\n",
    "%store MY_NOTEBOOK_DIR\n",
    "%store MY_NOTEBOOK_DATA_FOLDER\n",
    "%store MY_NOTEBOOK_UTILS_FOLDER\n",
    "\n",
    "%store MY_TPCC_PATH\n",
    "%store MY_TPPC_WORKLOAD_FILE"
   ]
  },
  {
   "attachments": {},
   "cell_type": "markdown",
   "metadata": {
    "deletable": false,
    "editable": false
   },
   "source": [
    "---\n",
    "# Connect to YugabyteDB with `ysqlsh`, YSQL shell, and create the database\n",
    "The following commands are YSQL shell commands. Using `ysqlsh`, you can execute YSQL statements.\n",
    "\n",
    "Run the following cell to connect to the local host using `ysqlsh`, create the `db_tpcc` database, and then list the databases."
   ]
  },
  {
   "cell_type": "code",
   "execution_count": null,
   "metadata": {
    "vscode": {
     "languageId": "shellscript"
    }
   },
   "outputs": [],
   "source": [
    "%%bash -s \"$MY_YB_PATH\" \"$MY_DB_NAME\"  # create database\n",
    "YB_PATH=${1}\n",
    "DB_NAME=${2}\n",
    "\n",
    "cd $YB_PATH\n",
    "\n",
    "# terminate connections, drop, and create\n",
    "./bin/ysqlsh -d yugabyte -c \"select pg_terminate_backend(pid) from pg_stat_activity where datname = '\"${DB_NAME}\"';\"  \n",
    "./bin/ysqlsh -d yugabyte -c \"drop database if exists \"${DB_NAME}\";\"  \n",
    "./bin/ysqlsh -d yugabyte -c \"create database \"${DB_NAME}\";\" \n",
    "\n",
    "# list dbs\n",
    "./bin/ysqlsh -d yugabyte -c \"\\l\""
   ]
  },
  {
   "cell_type": "markdown",
   "metadata": {},
   "source": [
    "---\n",
    "## About the Yugabyte TPCC benchmark\n",
    "\n",
    "The <a href=\"https://github.com/yugabyte/tpcc\" rel=\"noopener noreferrer\" target=\"_blank\">Yugabyte TPCC benchmark</a> application is a fork of the popular <a href=\"https://github.com/oltpbenchmark/oltpbench\" rel=\"noopener noreferrer\" target=\"_blank\">OLTPBench</a> benchmark tool.\n",
    "\n",
    "Just like the OLTP Bench original, the Yugabyte TPCC benchmark is a multi-threaded load generator that is be able to produce a variety of workloads, including variations in rate and transaction type. The benchmark also allows for benchmark data collection. You can analyze this data to determine key metrics such as Transactions per Second (TPS) and Latency per Transaction Type. **TPMC** remains as the main metric for summarizing the benchmark.\n",
    "\n",
    "To run the TPCC benchmark, you use a utility script, `tpccbenchmark` which supports the following arguments."
   ]
  },
  {
   "cell_type": "markdown",
   "metadata": {},
   "source": [
    "| Argument | Description |\n",
    "|-|:-|\n",
    "| `-c,--config`|  `[required]` Workload configuration file|\n",
    "| `--clear` | Clear all records in the database for this benchmark |\n",
    "| `--create` |  Initialize the database for this benchmark |\n",
    "| `--execute` |  Execute the benchmark workload |\n",
    "| `-h,--help` |  Print this help |\n",
    "| `--histograms` |  Print txn histograms |\n",
    "| `--load` |  Load data using the benchmark's data loader |\n",
    "| `-o,--output` |  Output file (default System.out) |\n",
    "| `--runscript` |  Run an SQL script |\n",
    "| `-s,--sample` |  Sampling window |\n",
    "| `-v,--verbose` |  Display Messages |\n"
   ]
  },
  {
   "cell_type": "markdown",
   "metadata": {},
   "source": [
    "The default benchmark values are:\n",
    "- warehouses = 10\n",
    "- total warehouses across shards = 10\n",
    "- terminals = 100\n",
    "- dbConnections = 10\n",
    "- loaderThreads = 10\n",
    "\n",
    "\n",
    "A <a href=\"https://github.com/yugabyte/tpcc/blob/master/config/workload_all.xml\" rel=\"noopener noreferrer\" target=\"_blank\"><code>config/workload_all.xml</code></a> file provides an example of how to describe and configure a workload.\n",
    "\n",
    "For more configurations, review the forked OLTP benchmark <a href=\"https://github.com/oltpbenchmark/oltpbench/blob/master/config/sample_tpcc_config.xml\" rel=\"noopener noreferrer\" target=\"_blank\">config.xml</a>.\n",
    "\n",
    "The Yugabyte TPCC benchmark also supports multi-region cluster topologies row-level geo-partitioning. To see how, review the <a href=\"https://github.com/yugabyte/tpcc/blob/master/config/geopartitioned_workload.xml\" rel=\"noopener noreferrer\" target=\"_blank\"><code>geopartitioned_workload.xml</code></a> file which illustrates how to specify tablespaces with specific placement policies.</p>\n",
    "\n",
    "See the following for more details:\n",
    "- <a href=\"https://github.com/yugabyte/tpcc\" rel=\"noopener noreferrer\" target=\"_blank\">https://github.com/yugabyte/tpcc</a>\n",
    "- <a href=\"https://docs.yugabyte.com/latest/benchmark/tpcc-ysql/\" rel=\"noopener noreferrer\" target=\"_blank\">https://docs.yugabyte.com/latest/benchmark/tpcc-ysql/</a>\n"
   ]
  },
  {
   "cell_type": "markdown",
   "metadata": {},
   "source": [
    "\n",
    "### Create the benchmark schema\n",
    "Before starting your benchmark workload, you first need to create the *TPCC* data model and then load data.\n",
    "\n",
    "Create the TPCC data model using theses arguments:\n",
    "- `--config`\n",
    "- `--create`\n",
    "- `--nodes` "
   ]
  },
  {
   "cell_type": "code",
   "execution_count": null,
   "metadata": {
    "vscode": {
     "languageId": "shellscript"
    }
   },
   "outputs": [],
   "source": [
    "%%bash -s \"$MY_TPCC_PATH\" \"$MY_DB_NAME\" \"$MY_TPPC_WORKLOAD_FILE\" \"$MY_HOST_IPv4_01\" \"$MY_HOST_IPv4_02\" \"$MY_HOST_IPv4_03\"\n",
    "\n",
    "TPCC_PATH=${1}\n",
    "DB_NAME=${2}\n",
    "TPCC_WORKLOAD_FILE=${3}\n",
    "YB_NODE_01=${4}\n",
    "YB_NODE_02=${5}\n",
    "YB_NODE_03=${6}\n",
    "\n",
    "\n",
    "cd $TPPC_PATH\n",
    "\n",
    "# terminate connections, drop, and create\n",
    "./tpccbenchmark \\\n",
    "  --config=${MY_TPPC_WORKLOAD_FILE} \\\n",
    "  --create=true \\\n",
    "  --nodes=${YB_NODE_01},${YB_NODE_02},${YB_NODE_03} \n"
   ]
  },
  {
   "cell_type": "markdown",
   "metadata": {},
   "source": [
    "### Load the benchmark data\n",
    "Load the data for the TPCC database using the following arguments:\n",
    "- `--config`\n",
    "- `--load`\n",
    "- `--nodes`\n",
    "- `--warehouses`\n",
    "- `--loaderthreads` represents the total number vCPU in your cluster. For example, `--loaderthreads=12` is for a 3 node cluster with 4 vCPU per node."
   ]
  },
  {
   "cell_type": "markdown",
   "metadata": {},
   "source": [
    "> Note:\n",
    "> \n",
    "> Depending on the vCPU of the nodes in your cluster and scale factor, the load time may be more than 10 minutes. "
   ]
  },
  {
   "cell_type": "code",
   "execution_count": null,
   "metadata": {
    "vscode": {
     "languageId": "shellscript"
    }
   },
   "outputs": [],
   "source": [
    "%%bash -s \"$MY_TPCC_PATH\" \"$MY_DB_NAME\" \"$MY_TPPC_WORKLOAD_FILE\" \"$MY_HOST_IPv4_01\" \"$MY_HOST_IPv4_02\" \"$MY_HOST_IPv4_03\"\n",
    "\n",
    "TPCC_PATH=${1}\n",
    "DB_NAME=${2}\n",
    "TPCC_WORKLOAD_FILE=${3}\n",
    "YB_NODE_01=${4}\n",
    "YB_NODE_02=${5}\n",
    "YB_NODE_03=${6}\n",
    "\n",
    "\n",
    "cd $TPPC_PATH\n",
    "\n",
    "# terminate connections, drop, and create\n",
    "./tpccbenchmark \\\n",
    "  --config=${MY_TPPC_WORKLOAD_FILE} \\\n",
    "  --load=true \\\n",
    "  --nodes=${YB_NODE_01},${YB_NODE_02},${YB_NODE_03} \\\n",
    "  --warehouses=1 \\\n",
    "  --loaderthreads=2\n"
   ]
  },
  {
   "cell_type": "markdown",
   "metadata": {},
   "source": [
    "### Run the benchmark\n",
    "\n",
    "After creating the schema and loading the data, you can now run the benchmark using the following arguments:\n",
    "- `--config`\n",
    "- `--execute`\n",
    "- `--nodes`\n",
    "- `--warehouses`\n",
    "- `--historgrams`\n",
    "\n"
   ]
  },
  {
   "cell_type": "code",
   "execution_count": null,
   "metadata": {
    "vscode": {
     "languageId": "shellscript"
    }
   },
   "outputs": [],
   "source": [
    "%%bash -s \"$MY_TPCC_PATH\" \"$MY_DB_NAME\" \"$MY_TPPC_WORKLOAD_FILE\" \"$MY_HOST_IPv4_01\" \"$MY_HOST_IPv4_02\" \"$MY_HOST_IPv4_03\"\n",
    "\n",
    "TPCC_PATH=${1}\n",
    "DB_NAME=${2}\n",
    "TPCC_WORKLOAD_FILE=${3}\n",
    "YB_NODE_01=${4}\n",
    "YB_NODE_02=${5}\n",
    "YB_NODE_03=${6}\n",
    "\n",
    "\n",
    "cd $TPPC_PATH\n",
    "\n",
    "# terminate connections, drop, and create\n",
    "./tpccbenchmark \\\n",
    "  --config=${MY_TPPC_WORKLOAD_FILE} \\\n",
    "  --execute=true \\\n",
    "  --nodes=${YB_NODE_01},${YB_NODE_02},${YB_NODE_03} \\\n",
    "  --warehouses=1 \\\n",
    "  --histograms\n"
   ]
  },
  {
   "cell_type": "markdown",
   "metadata": {},
   "source": [
    "### Review the benchmark results\n",
    "When the benchmark completes, you will be able to review the results. Here's an example:\n",
    "\n",
    "```\n",
    "14:22:21,014 (DBWorkload.java:522) INFO  -\n",
    "================RESULTS================\n",
    "             TPM-C |             126.73\n",
    "        Efficiency |             98.55%\n",
    "Throughput (req/s) |               4.75\n",
    "\n",
    "14:22:21,036 (DBWorkload.java:689) INFO  -\n",
    "======================LATENCIES (INCLUDE RETRY ATTEMPTS)=====================\n",
    " Transaction |  Count   | Avg. Latency | P99 Latency | Connection Acq Latency\n",
    "    NewOrder |     3802 |        19.19 |       48.66 |                   2.89\n",
    "     Payment |     3742 |        11.98 |       29.36 |                   0.95\n",
    " OrderStatus |      326 |         6.29 |       25.85 |                   1.57\n",
    "    Delivery |      343 |        63.33 |      184.60 |                   1.78\n",
    "  StockLevel |      338 |        20.83 |       85.70 |                   0.24\n",
    "        All  |     8551 |        17.38 |       95.43 |                   1.84\n",
    "\n",
    "14:22:21,074 (DBWorkload.java:633) INFO  -\n",
    "=======================WORKER TASK LATENCIES=======================\n",
    " Transaction |     Task     |  Count   | Avg. Latency | P99 Latency\n",
    "    NewOrder |   Fetch Work |     3802 |         0.07 |        3.79\n",
    "    NewOrder |       Keying |     3802 |     18003.74 |    18005.02\n",
    "    NewOrder |Op With Retry |     3802 |        22.31 |      228.44\n",
    "    NewOrder |     Thinking |     3802 |     11945.93 |    57887.91\n",
    "     Payment |   Fetch Work |     3776 |         0.06 |        1.27\n",
    "     Payment |       Keying |     3776 |      3003.73 |     3005.03\n",
    "     Payment |Op With Retry |     3776 |        14.06 |       85.91\n",
    "     Payment |     Thinking |     3776 |     11837.72 |    55752.92\n",
    " OrderStatus |   Fetch Work |      326 |         0.06 |        0.04\n",
    " OrderStatus |       Keying |      326 |      2003.78 |     2005.04\n",
    " OrderStatus |Op With Retry |      326 |         7.91 |       26.15\n",
    " OrderStatus |     Thinking |      326 |      9702.81 |    52510.19\n",
    "    Delivery |   Fetch Work |      343 |         0.07 |        2.45\n",
    "    Delivery |       Keying |      343 |      2003.80 |     2005.08\n",
    "    Delivery |Op With Retry |      343 |        65.14 |      278.49\n",
    "    Delivery |     Thinking |      343 |      4411.94 |    19129.31\n",
    "  StockLevel |   Fetch Work |      338 |         0.02 |        0.03\n",
    "  StockLevel |       Keying |      338 |      2003.65 |     2005.02\n",
    "  StockLevel |Op With Retry |      338 |        21.09 |       85.76\n",
    "  StockLevel |     Thinking |      338 |      5186.73 |    24646.16\n",
    "        All  |   Fetch Work |     8585 |         0.06 |        2.45\n",
    "        All  |       Keying |     8585 |      9529.42 |    18004.98\n",
    "        All  |Op with Retry |     8585 |        19.80 |      145.40\n",
    "        All  |     Thinking |     8585 |     11246.03 |    55505.03\n",
    "        All  |          All |     8585 |     20795.31 |    68765.58\n",
    "```"
   ]
  },
  {
   "cell_type": "markdown",
   "metadata": {},
   "source": [
    "In addition to the terminal output, there are two files that your can also review:\n",
    "- `output.json`, contains the results in `JSON` format\n",
    "- `results/oltpbench.csv`, contains the results in `CSV` format\n",
    "\n"
   ]
  },
  {
   "cell_type": "markdown",
   "metadata": {},
   "source": [
    "---\n"
   ]
  },
  {
   "attachments": {},
   "cell_type": "markdown",
   "metadata": {
    "deletable": false,
    "editable": false
   },
   "source": [
    "## Connect to YugabyteDB using the PostgreSQL Driver for Python\n",
    "The following cells requires:\n",
    "- Python 3.8+ and psycopg2"
   ]
  },
  {
   "cell_type": "code",
   "execution_count": null,
   "metadata": {
    "deletable": false,
    "editable": false
   },
   "outputs": [],
   "source": [
    "# Connect to db_ybu\n",
    "# Inspiration from https://medium.com/analytics-vidhya/postgresql-integration-with-jupyter-notebook-deb97579a38d\n",
    "import psycopg2\n",
    "import sqlalchemy as alc\n",
    "from sqlalchemy import create_engine\n",
    "\n",
    "# env_var.env\n",
    "db_host=MY_HOST_IPv4_01\n",
    "db_name=MY_DB_NAME\n",
    "\n",
    "connection_str='postgresql://yugabyte@'+db_host+':5433/'+db_name\n",
    "print(connection_str)\n",
    "engine = create_engine(connection_str)"
   ]
  },
  {
   "attachments": {},
   "cell_type": "markdown",
   "metadata": {
    "deletable": false,
    "editable": false
   },
   "source": [
    "#### Load SQL magic extension\n",
    "> 👉 IMPORTANT! 👈\n",
    ">\n",
    "> To use SQL magic, you must run the following cell that loads the notebook extension."
   ]
  },
  {
   "cell_type": "code",
   "execution_count": null,
   "metadata": {},
   "outputs": [],
   "source": [
    "%reload_ext sql \n",
    "# creates connection for sql magic\n",
    "%sql {connection_str}"
   ]
  },
  {
   "attachments": {},
   "cell_type": "markdown",
   "metadata": {},
   "source": [
    "You can optionally review the configuration for Sql Magic. It's okay to skip the following cell."
   ]
  },
  {
   "cell_type": "code",
   "execution_count": null,
   "metadata": {},
   "outputs": [],
   "source": [
    " %config SqlMagic"
   ]
  },
  {
   "attachments": {},
   "cell_type": "markdown",
   "metadata": {
    "deletable": false,
    "editable": false
   },
   "source": [
    "#### Show table row counts\n",
    "Run the cell below to view the row counts for the tables."
   ]
  },
  {
   "cell_type": "code",
   "execution_count": null,
   "metadata": {
    "vscode": {
     "languageId": "sql"
    }
   },
   "outputs": [],
   "source": [
    "%%sql \n",
    "\n",
    "select '' _\n",
    "    , v1.name\n",
    "    , v1.counts\n",
    "from (\n",
    "    select 'tbl_cities' as name, count(*) as counts from tbl_cities\n",
    "    union \n",
    "    select 'tbl_cities_name_alt_null' as name, count(*) \n",
    "    from tbl_cities\n",
    "    where 1=1\n",
    "    and city_name_alt IS NULL\n",
    "    union\n",
    "    select 'tbl_states' as name,count(*) from tbl_states\n",
    "    union \n",
    "    select 'tbl_countries' as name, count(*) from tbl_countries\n",
    "    union\n",
    "    select 'tbl_country_name_alt_null' as name, count(*) \n",
    "    from tbl_countries \n",
    "    where 1=1\n",
    "    and country_name_alt IS NULL\n",
    "    ) v1\n",
    "order by v1.counts desc;"
   ]
  },
  {
   "attachments": {},
   "cell_type": "markdown",
   "metadata": {
    "deletable": false,
    "editable": false
   },
   "source": [
    "---\n",
    "# 🌟 Well done! \n",
    "In this notebook, you completed the following:\n",
    "- Setup steps\n",
    "- Connect to YugabyteDB using ysqlsh\n",
    "  - Created the `db_ybu` database with `ysqlsh`\n",
    "  - Created utils\n",
    "  - Created tables and loaded data using DDL and DML scripts\n",
    "  - Connected to the database using a PostgreSQL driver for Python\n",
    "  - Executed queries with SQL Magic\n",
    "\n",
    "\n",
    "## 😊 Next up!\n",
    "Continue your learning by opening the next notebook, `02_YSQL_Development.ipynb`. \n",
    "\n",
    "Or, if using GitPod, run the following cell:"
   ]
  },
  {
   "cell_type": "code",
   "execution_count": null,
   "metadata": {
    "vscode": {
     "languageId": "shellscript"
    }
   },
   "outputs": [],
   "source": [
    "%%bash\n",
    "gp open '02_TPCC_Benchmark.ipynb'"
   ]
  }
 ],
 "metadata": {
  "kernelspec": {
   "display_name": "Python 3.7.9 64-bit",
   "language": "python",
   "name": "python3"
  },
  "language_info": {
   "codemirror_mode": {
    "name": "ipython",
    "version": 3
   },
   "file_extension": ".py",
   "mimetype": "text/x-python",
   "name": "python",
   "nbconvert_exporter": "python",
   "pygments_lexer": "ipython3",
   "version": "3.11.2"
  },
  "orig_nbformat": 4,
  "vscode": {
   "interpreter": {
    "hash": "aee8b7b246df8f9039afb4144a1f6fd8d2ca17a180786b69acc140d282b71a49"
   }
  }
 },
 "nbformat": 4,
 "nbformat_minor": 2
}
