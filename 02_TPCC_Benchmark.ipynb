{
 "cells": [
  {
   "attachments": {},
   "cell_type": "markdown",
   "metadata": {},
   "source": [
    "<div style=\"width:100%; background-color: #000041\"><a target=\"_blank\" href=\"http://university.yugabyte.com\"><img src=\"assets/YBU_Logo.png\" /></a></div><br>\n",
    "\n",
    "> **YugabyteDB Fundamentals**\n",
    ">\n",
    "> Enroll for free  [Yugabyte University](https://university.yugabyte.com/courses/yugabytedb-fundamentals).\n",
    ">\n",
    "\n",
    "<br>\n",
    "This notebook file is:\n",
    "\n",
    "`02_TPCC_Benchmark.ipynb`"
   ]
  },
  {
   "cell_type": "markdown",
   "metadata": {},
   "source": [
    "---\n",
    "## About the Yugabyte TPCC benchmark\n",
    "\n",
    "The <a href=\"https://github.com/yugabyte/tpcc\" rel=\"noopener noreferrer\" target=\"_blank\">Yugabyte TPCC benchmark</a> application is a fork of the popular <a href=\"https://github.com/oltpbenchmark/oltpbench\" rel=\"noopener noreferrer\" target=\"_blank\">OLTPBench</a> benchmark tool.\n",
    "\n",
    "Just like the OLTP Bench original, the Yugabyte TPCC benchmark is a multi-threaded load generator that is be able to produce a variety of workloads, including variations in rate and transaction type. The benchmark also allows for benchmark data collection. You can analyze this data to determine key metrics such as Transactions per Second (TPS) and Latency per Transaction Type. **TPMC** remains as the main metric for summarizing the benchmark.\n"
   ]
  },
  {
   "attachments": {},
   "cell_type": "markdown",
   "metadata": {},
   "source": [
    "## 🛠️ Requirements\n",
    "Here are the requirements for this notebook:\n",
    "- ✅ Create the notebook variables in `01_Lab_Setup.ipynb`, which you previously did\n",
    "- ✅ Create the `db_tpcc` database, which you previously did\n",
    "- ☑️ Import the notebook variables, *which you must do next*\n",
    "- ☑️ Run the TPCC Benchmark, *which you must do next*\n",
    "\n",
    "\n",
    "### Select your notebook kernel\n",
    "- In the Notebook toolbar, click **Select Kernel**.\n",
    "<br>\n",
    "<img width=50% src=\"assets/01_01_Select_Kernel_Toolbar.png\" />\n",
    "\n",
    "- Next, in the dropdown, select **Python 3.12** or higher.\n",
    "<br>\n",
    "<img width=50% src=\"assets/01_02_Select_Kernel_Dropdown.png\" />\n",
    "\n",
    "That's it!"
   ]
  },
  {
   "attachments": {},
   "cell_type": "markdown",
   "metadata": {},
   "source": [
    "## ⛑️ Getting help\n",
    "The best way to get help from the Yugabyte University team is to post your question on YugabyteDB Community Slack in the #training or #yb-university channels. To sign up, visit [https://communityinviter.com/apps/yugabyte-db/register](https://communityinviter.com/apps/yugabyte-db/register)."
   ]
  },
  {
   "attachments": {},
   "cell_type": "markdown",
   "metadata": {},
   "source": [
    "\n",
    "## 👣 Setup steps\n",
    "Here are the steps to setup this lab:\n",
    "- Import the notebook variables\n",
    "- Run the TPCC Benchmark"
   ]
  },
  {
   "attachments": {},
   "cell_type": "markdown",
   "metadata": {},
   "source": [
    "### 👇 Import the notebook variables\n",
    "\n",
    "> 👉 IMPORTANT! 👈\n",
    "> \n",
    "> Do **NOT** skip running the following cell. \n",
    "> \n",
    "\n",
    "The following Python cell reads the stored variables created in the `01_Lab_Setup.ipynb` notebook. To run the script, select Execute Cell (Play Arrow) in the left gutter of the cell. \n",
    "\n",
    "👇 👇 👇 "
   ]
  },
  {
   "cell_type": "code",
   "execution_count": null,
   "metadata": {},
   "outputs": [],
   "source": [
    "%store -r"
   ]
  },
  {
   "attachments": {},
   "cell_type": "markdown",
   "metadata": {},
   "source": [
    "---\n"
   ]
  },
  {
   "attachments": {},
   "cell_type": "markdown",
   "metadata": {},
   "source": [
    "## Run the TPCC Benchmark\n",
    "\n",
    "There are 4 basic steps to running the benchmark:\n",
    "- create the schema\n",
    "- load the data\n",
    "- run the benchmark\n",
    "- review the results"
   ]
  },
  {
   "cell_type": "markdown",
   "metadata": {},
   "source": [
    "To run the TPCC benchmark, you use a utility script, `tpccbenchmark` which supports the following arguments.\n",
    "\n",
    "| Argument | Description |\n",
    "|-|:-|\n",
    "| `-c,--config`|  `[required]` Workload configuration file|\n",
    "| `--clear` | Clear all records in the database for this benchmark |\n",
    "| `--create` |  Initialize the database for this benchmark |\n",
    "| `--execute` |  Execute the benchmark workload |\n",
    "| `-h,--help` |  Print this help |\n",
    "| `--histograms` |  Print txn histograms |\n",
    "| `--load` |  Load data using the benchmark's data loader |\n",
    "| `-o,--output` |  Output file (default System.out) |\n",
    "| `--runscript` |  Run an SQL script |\n",
    "| `-s,--sample` |  Sampling window |\n",
    "| `-v,--verbose` |  Display Messages |"
   ]
  },
  {
   "cell_type": "markdown",
   "metadata": {},
   "source": [
    "The default benchmark values are:\n",
    "- `warehouses=10`\n",
    "- `terminals=100`\n",
    "- `dbConnections=10`\n",
    "- `loaderThreads=10`\n",
    "\n",
    "\n",
    "A <a href=\"https://github.com/yugabyte/tpcc/blob/master/config/workload_all.xml\" rel=\"noopener noreferrer\" target=\"_blank\">`config/workload_all.xml`</a> file provides an example of how to describe and configure a workload.\n",
    "\n",
    "For more configurations, review the forked OLTP benchmark <a href=\"https://github.com/oltpbenchmark/oltpbench/blob/master/config/sample_tpcc_config.xml\" rel=\"noopener noreferrer\" target=\"_blank\">`config.xml`</a>.\n",
    "\n",
    "The Yugabyte TPCC benchmark also supports multi-region cluster topologies row-level geo-partitioning. To see how, review the <a href=\"https://github.com/yugabyte/tpcc/blob/master/config/geopartitioned_workload.xml\" rel=\"noopener noreferrer\" target=\"_blank\">`geopartitioned_workload.xml`</a> file which illustrates how to specify tablespaces with specific placement policies.</p>\n",
    "\n",
    "See the following for more details:\n",
    "- <a href=\"https://github.com/yugabyte/tpcc\" rel=\"noopener noreferrer\" target=\"_blank\">https://github.com/yugabyte/tpcc</a>\n",
    "- <a href=\"https://docs.yugabyte.com/latest/benchmark/tpcc-ysql/\" rel=\"noopener noreferrer\" target=\"_blank\">https://docs.yugabyte.com/latest/benchmark/tpcc-ysql/</a>\n"
   ]
  },
  {
   "cell_type": "markdown",
   "metadata": {},
   "source": [
    "\n",
    "### Create the benchmark schema\n",
    "Before starting your benchmark workload, you first need to create the *TPCC* data model and then load data.\n",
    "\n",
    "Create the TPCC data model using theses arguments:\n",
    "- `--config`\n",
    "- `--create`\n",
    "- `--nodes` "
   ]
  },
  {
   "cell_type": "code",
   "execution_count": null,
   "metadata": {
    "vscode": {
     "languageId": "shellscript"
    }
   },
   "outputs": [],
   "source": [
    "%%bash -s \"$MY_TPCC_PATH\" \"$MY_DB_NAME\" \"$MY_TPCC_WORKLOAD_FILE\" \"$MY_HOST_IPv4_01\" \"$MY_HOST_IPv4_02\" \"$MY_HOST_IPv4_03\"\n",
    "TPCC_PATH=${1}\n",
    "DB_NAME=${2}\n",
    "TPCC_WORKLOAD_FILE=${3}\n",
    "YB_NODE_01=${4}\n",
    "YB_NODE_02=${5}\n",
    "YB_NODE_03=${6}\n",
    "\n",
    "cd  $TPCC_PATH\n",
    "\n",
    "cp  $TPCC_WORKLOAD_FILE  $TPCC_PATH/config/my_workload_all.xml\n",
    "cat $TPCC_PATH/config/my_workload_all.xml\n",
    "# terminate connections, drop, and create\n",
    "./tpccbenchmark \\\n",
    "  --config=config/my_workload_all.xml \\\n",
    "  --create=true \\\n",
    "  --nodes=${YB_NODE_01},${YB_NODE_02},${YB_NODE_03} \n"
   ]
  },
  {
   "cell_type": "markdown",
   "metadata": {},
   "source": [
    "### Load the benchmark data\n",
    "Load the data for the TPCC database using the following arguments:\n",
    "- `--config`\n",
    "- `--load`\n",
    "- `--nodes`\n",
    "- `--warehouses`\n",
    "- `--loaderthreads` represents the total number vCPU in your cluster. For example, `--loaderthreads=12` is for a 3 node cluster with 4 vCPU per node."
   ]
  },
  {
   "cell_type": "markdown",
   "metadata": {},
   "source": [
    "> Note:\n",
    "> \n",
    "> Depending on the vCPU of the nodes in your cluster and scale factor, the load time may be more than 10 minutes. \n",
    ">\n",
    "\n",
    "So, while this is running below, visit the tab with the yugabyted ui in yoour chromium browser. Try to identify the slow queries during this load.\n",
    "\n",
    "> Hint\n",
    ">\n",
    "> - yugabyted Web UI > Performance > YSQL Slow Queries\n",
    ">\n"
   ]
  },
  {
   "cell_type": "code",
   "execution_count": null,
   "metadata": {
    "vscode": {
     "languageId": "shellscript"
    }
   },
   "outputs": [],
   "source": [
    "%%bash -s \"$MY_TPCC_PATH\" \"$MY_DB_NAME\" \"$MY_TPCC_WORKLOAD_FILE\" \"$MY_HOST_IPv4_01\" \"$MY_HOST_IPv4_02\" \"$MY_HOST_IPv4_03\"\n",
    "\n",
    "TPCC_PATH=${1}\n",
    "DB_NAME=${2}\n",
    "TPCC_WORKLOAD_FILE=${3}\n",
    "YB_NODE_01=${4}\n",
    "YB_NODE_02=${5}\n",
    "YB_NODE_03=${6}\n",
    "\n",
    "\n",
    "cd $TPCC_PATH\n",
    "\n",
    "# terminate connections, drop, and create\n",
    "./tpccbenchmark \\\n",
    "  --config=config/my_workload_all.xml \\\n",
    "  --load=true \\\n",
    "  --nodes=${YB_NODE_01},${YB_NODE_02},${YB_NODE_03} \\\n",
    "  --warehouses=1 \\\n",
    "  --loaderthreads=2\n"
   ]
  },
  {
   "cell_type": "markdown",
   "metadata": {},
   "source": [
    "### Run the benchmark\n",
    "\n",
    "After creating the schema and loading the data, you can now run the benchmark using the following arguments:\n",
    "- `--config`\n",
    "- `--execute`\n",
    "- `--nodes`\n",
    "- `--warehouses`\n",
    "- `--historgrams`\n",
    "\n"
   ]
  },
  {
   "cell_type": "markdown",
   "metadata": {},
   "source": [
    "So, while this is running below, visit the tab with the `yugabyted` Web UI in your chromium browser. Try to identify the slow queries during this load.\n",
    "\n",
    "> Hint\n",
    ">\n",
    "> - yugabyted Web UI > Performance > Metrics\n",
    "> - yugabyted Web UI > Performance > Live Queries\n",
    ">\n",
    "> Remember to `Refresh`\n",
    "\n",
    "This may take about **10 minutes** to complete."
   ]
  },
  {
   "cell_type": "code",
   "execution_count": null,
   "metadata": {
    "vscode": {
     "languageId": "shellscript"
    }
   },
   "outputs": [],
   "source": [
    "%%bash -s \"$MY_TPCC_PATH\" \"$MY_DB_NAME\" \"$MY_TPCC_WORKLOAD_FILE\" \"$MY_HOST_IPv4_01\" \"$MY_HOST_IPv4_02\" \"$MY_HOST_IPv4_03\"\n",
    "\n",
    "TPCC_PATH=${1}\n",
    "DB_NAME=${2}\n",
    "TPCC_WORKLOAD_FILE=${3}\n",
    "YB_NODE_01=${4}\n",
    "YB_NODE_02=${5}\n",
    "YB_NODE_03=${6}\n",
    "\n",
    "\n",
    "cd $TPCC_PATH\n",
    "\n",
    "# terminate connections, drop, and create\n",
    "./tpccbenchmark \\\n",
    "  --config=config/my_workload_all.xml \\\n",
    "  --execute=true \\\n",
    "  --warmup-time-secs=30 \\\n",
    "  --nodes=${YB_NODE_01},${YB_NODE_02},${YB_NODE_03} \\\n",
    "  --warehouses=1 \\\n",
    "  --histograms\n"
   ]
  },
  {
   "cell_type": "markdown",
   "metadata": {},
   "source": [
    "### Review the benchmark results\n",
    "When the benchmark completes, you will be able to review the results. Here's an example:\n",
    "\n",
    "```\n",
    "================RESULTS================\n",
    "             TPM-C |              11.60\n",
    "        Efficiency |             90.20%\n",
    "Throughput (req/s) |               0.49\n",
    "\n",
    "05:13:32,998 (DBWorkload.java:696) INFO  - \n",
    "======================LATENCIES (INCLUDE RETRY ATTEMPTS)=====================\n",
    " Transaction |  Count   | Avg. Latency | P99 Latency | Connection Acq Latency\n",
    "    NewOrder |      116 |        25.04 |       66.41 |                   0.73\n",
    "     Payment |      138 |        15.35 |       52.56 |                   0.80\n",
    " OrderStatus |       14 |         7.16 |       19.82 |                   0.50\n",
    "    Delivery |       14 |        93.91 |      164.13 |                   0.63\n",
    "  StockLevel |       12 |         9.70 |       47.36 |                   0.65\n",
    "        All  |      294 |        22.29 |      136.17 |                   0.75\n",
    "\n",
    "05:13:33,006 (DBWorkload.java:640) INFO  - \n",
    "=======================WORKER TASK LATENCIES=======================\n",
    " Transaction |     Task     |  Count   | Avg. Latency | P99 Latency\n",
    "    NewOrder |   Fetch Work |      116 |         0.38 |       10.06\n",
    "    NewOrder |       Keying |      116 |     18000.14 |    18000.95\n",
    "    NewOrder |Op With Retry |      116 |        25.86 |       66.99\n",
    "    NewOrder |     Thinking |      116 |     12253.64 |    72840.10\n",
    "     Payment |   Fetch Work |      138 |         0.00 |        0.03\n",
    "     Payment |       Keying |      138 |      3000.19 |     3003.18\n",
    "     Payment |Op With Retry |      138 |        16.22 |       53.02\n",
    "     Payment |     Thinking |      138 |     11609.32 |    60768.14\n",
    " OrderStatus |   Fetch Work |       14 |         0.01 |        0.12\n",
    " OrderStatus |       Keying |       14 |      2000.11 |     2000.14\n",
    " OrderStatus |Op With Retry |       14 |         7.71 |       20.46\n",
    " OrderStatus |     Thinking |       14 |     15752.29 |    37918.09\n",
    "    Delivery |   Fetch Work |       14 |         0.00 |        0.01\n",
    "    Delivery |       Keying |       14 |      2000.10 |     2000.13\n",
    "    Delivery |Op With Retry |       14 |        94.61 |      164.70\n",
    "    Delivery |     Thinking |       14 |      5344.52 |    14846.08\n",
    "  StockLevel |   Fetch Work |       12 |         0.00 |        0.01\n",
    "  StockLevel |       Keying |       12 |      2000.11 |     2000.15\n",
    "  StockLevel |Op With Retry |       12 |        10.40 |       47.85\n",
    "  StockLevel |     Thinking |       12 |      3920.01 |     9980.15\n",
    "        All  |   Fetch Work |      294 |         0.15 |        0.12\n",
    "        All  |       Keying |      294 |      8782.47 |    18000.18\n",
    "        All  |Op with Retry |      294 |        23.11 |      136.79\n",
    "        All  |     Thinking |      294 |     11448.65 |    62973.09\n",
    "        All  |          All |      294 |     20254.39 |    75767.52\n",
    "```"
   ]
  },
  {
   "cell_type": "markdown",
   "metadata": {},
   "source": [
    "In addition to the terminal output, there are two files that your can also review:\n",
    "- `output.json`, contains the results in `JSON` format\n",
    "- `results/oltpbench.csv`, contains the results in `CSV` format\n",
    "\n"
   ]
  },
  {
   "cell_type": "markdown",
   "metadata": {},
   "source": [
    "View the `output.json` file."
   ]
  },
  {
   "cell_type": "code",
   "execution_count": null,
   "metadata": {
    "vscode": {
     "languageId": "shellscript"
    }
   },
   "outputs": [],
   "source": [
    "%%bash\n",
    "gp open '/home/gitpod/tpcc/results/json/output.json'"
   ]
  },
  {
   "cell_type": "markdown",
   "metadata": {},
   "source": [
    "View the `oltpbench.csv` file."
   ]
  },
  {
   "cell_type": "code",
   "execution_count": null,
   "metadata": {
    "vscode": {
     "languageId": "shellscript"
    }
   },
   "outputs": [],
   "source": [
    "%%bash\n",
    "gp open '/home/gitpod/tpcc/results/oltpbench.csv'"
   ]
  },
  {
   "attachments": {},
   "cell_type": "markdown",
   "metadata": {
    "deletable": false,
    "editable": false
   },
   "source": [
    "---\n",
    "# 🌟🌟 Well done! \n",
    "In this lab, you completed the following:\n",
    "- Setup steps\n",
    "- Run the TPCC Benchmark"
   ]
  }
 ],
 "metadata": {
  "kernelspec": {
   "display_name": "Python 3.7.9 64-bit",
   "language": "python",
   "name": "python3"
  },
  "language_info": {
   "codemirror_mode": {
    "name": "ipython",
    "version": 3
   },
   "file_extension": ".py",
   "mimetype": "text/x-python",
   "name": "python",
   "nbconvert_exporter": "python",
   "pygments_lexer": "ipython3",
   "version": "3.9.16"
  },
  "orig_nbformat": 4,
  "vscode": {
   "interpreter": {
    "hash": "aee8b7b246df8f9039afb4144a1f6fd8d2ca17a180786b69acc140d282b71a49"
   }
  }
 },
 "nbformat": 4,
 "nbformat_minor": 2
}
