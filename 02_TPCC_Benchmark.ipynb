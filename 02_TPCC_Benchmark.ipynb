{
 "cells": [
  {
   "attachments": {},
   "cell_type": "markdown",
   "metadata": {},
   "source": [
    "<div style=\"width:100%; background-color: #000041\"><a target=\"_blank\" href=\"http://university.yugabyte.com\"><img src=\"assets/YBU_Logo.png\" /></a></div><br>\n",
    "\n",
    "> **YugabyteDB Fundamentals**\n",
    ">\n",
    "> Enroll for free  [Yugabyte University](https://university.yugabyte.com/courses/yugabytedb-fundamentals).\n",
    ">\n",
    "\n",
    "<br>\n",
    "This notebook file is:\n",
    "\n",
    "`02_TPCC.ipynb`"
   ]
  },
  {
   "cell_type": "markdown",
   "metadata": {},
   "source": [
    "---\n",
    "## About the Yugabyte TPCC benchmark\n",
    "\n",
    "The <a href=\"https://github.com/yugabyte/tpcc\" rel=\"noopener noreferrer\" target=\"_blank\">Yugabyte TPCC benchmark</a> application is a fork of the popular <a href=\"https://github.com/oltpbenchmark/oltpbench\" rel=\"noopener noreferrer\" target=\"_blank\">OLTPBench</a> benchmark tool.\n",
    "\n",
    "Just like the OLTP Bench original, the Yugabyte TPCC benchmark is a multi-threaded load generator that is be able to produce a variety of workloads, including variations in rate and transaction type. The benchmark also allows for benchmark data collection. You can analyze this data to determine key metrics such as Transactions per Second (TPS) and Latency per Transaction Type. **TPMC** remains as the main metric for summarizing the benchmark.\n"
   ]
  },
  {
   "attachments": {},
   "cell_type": "markdown",
   "metadata": {},
   "source": [
    "## 🛠️ Requirements\n",
    "Here are the requirements for this notebook:\n",
    "- ✅ Create the notebook variables in `01_Lab_Setup.ipynb`, which you previously did\n",
    "- ✅ Create the `db_tpcc` database, which you previously did\n",
    "- ☑️ Import the notebook variables, *which you must do next*\n",
    "- ☑️ Connect to the `db_tpcc` database, *which you must do next*\n",
    "- ☑️ Run through a series of DDL and DML scenarios\n",
    "  -  Basic of DDL and DML\n",
    "  -  Built-in Functions\n",
    "  -  Advanced Features\n",
    "\n",
    "\n",
    "### Select your notebook kernel\n",
    "- In the Notebook toolbar, click **Select Kernel**.\n",
    "<br>\n",
    "<img width=50% src=\"assets/01_01_Select_Kernel_Toolbar.png\" />\n",
    "\n",
    "- Next, in the dropdown, select **Python 3.12** or higher.\n",
    "<br>\n",
    "<img width=50% src=\"assets/01_02_Select_Kernel_Dropdown.png\" />\n",
    "\n",
    "That's it!"
   ]
  },
  {
   "attachments": {},
   "cell_type": "markdown",
   "metadata": {},
   "source": [
    "## ⛑️ Getting help\n",
    "The best way to get help from the Yugabyte University team is to post your question on YugabyteDB Community Slack in the #training or #yb-university channels. To sign up, visit [https://communityinviter.com/apps/yugabyte-db/register](https://communityinviter.com/apps/yugabyte-db/register)."
   ]
  },
  {
   "attachments": {},
   "cell_type": "markdown",
   "metadata": {},
   "source": [
    "\n",
    "## 👣 Setup steps\n",
    "Here are the steps to setup this lab:\n",
    "- Import the notebook variables\n",
    "- Run the TPCC Benchmark"
   ]
  },
  {
   "attachments": {},
   "cell_type": "markdown",
   "metadata": {},
   "source": [
    "### 👇 Import the notebook variables\n",
    "\n",
    "> 👉 IMPORTANT! 👈\n",
    "> \n",
    "> Do **NOT** skip running the following cell. \n",
    "> \n",
    "\n",
    "The following Python cell reads the stored variables created in the `01_Lab_Setup.ipynb` notebook. To run the script, select Execute Cell (Play Arrow) in the left gutter of the cell. \n",
    "\n",
    "👇 👇 👇 "
   ]
  },
  {
   "cell_type": "code",
   "execution_count": null,
   "metadata": {},
   "outputs": [],
   "source": [
    "%store -r MY_YB_PATH\n",
    "%store -r MY_YB_PATH_DATA\n",
    "%store -r MY_GITPOD_WORKSPACE_URL\n",
    "\n",
    "%store -r -r MY_DB_NAME\n",
    "%store -r MY_DB_PORT\n",
    "\n",
    "%store -r MY_HOST_IPv4_01\n",
    "%store -r MY_HOST_IPv4_02\n",
    "%store -r MY_HOST_IPv4_03\n",
    "\n",
    "%store -r MY_MASTER_WEB_PORT\n",
    "%store -r MY_TSERVER_WEBSERVER_PORT\n",
    "%store -r MY_YUGABYTED_WEB_UI_PORT\n",
    "\n",
    "%store -r MY_YB_MASTER_HOST_GITPOD_URL\n",
    "%store -r MY_YB_TSERVER_HOST_GITPOD_URL\n",
    "%store -r MY_YUGABYTED_UI_HOST_GITPOD_URL\n",
    "\n",
    "%store -r MY_NOTEBOOK_DIR\n",
    "%store -r MY_NOTEBOOK_UTILS_FOLDER\n",
    "\n",
    "%store -r MY_TPCC_PATH\n",
    "%store -r MY_TPCC_WORKLOAD_FILE"
   ]
  },
  {
   "attachments": {},
   "cell_type": "markdown",
   "metadata": {},
   "source": [
    "---\n"
   ]
  },
  {
   "attachments": {},
   "cell_type": "markdown",
   "metadata": {},
   "source": [
    "## Run the TPCC Benchmark\n",
    "\n",
    "There are 4 basic steps to running the benchmark:\n",
    "- create the schema\n",
    "- load the data\n",
    "- run the benchmark\n",
    "- review the results"
   ]
  },
  {
   "cell_type": "markdown",
   "metadata": {},
   "source": [
    "To run the TPCC benchmark, you use a utility script, `tpccbenchmark` which supports the following arguments.\n",
    "\n",
    "| Argument | Description |\n",
    "|-|:-|\n",
    "| `-c,--config`|  `[required]` Workload configuration file|\n",
    "| `--clear` | Clear all records in the database for this benchmark |\n",
    "| `--create` |  Initialize the database for this benchmark |\n",
    "| `--execute` |  Execute the benchmark workload |\n",
    "| `-h,--help` |  Print this help |\n",
    "| `--histograms` |  Print txn histograms |\n",
    "| `--load` |  Load data using the benchmark's data loader |\n",
    "| `-o,--output` |  Output file (default System.out) |\n",
    "| `--runscript` |  Run an SQL script |\n",
    "| `-s,--sample` |  Sampling window |\n",
    "| `-v,--verbose` |  Display Messages |"
   ]
  },
  {
   "cell_type": "markdown",
   "metadata": {},
   "source": [
    "The default benchmark values are:\n",
    "- `warehouses=10`\n",
    "- `terminals=100`\n",
    "- `dbConnections=10`\n",
    "- `loaderThreads=10`\n",
    "\n",
    "\n",
    "A <a href=\"https://github.com/yugabyte/tpcc/blob/master/config/workload_all.xml\" rel=\"noopener noreferrer\" target=\"_blank\">`config/workload_all.xml`</a> file provides an example of how to describe and configure a workload.\n",
    "\n",
    "For more configurations, review the forked OLTP benchmark <a href=\"https://github.com/oltpbenchmark/oltpbench/blob/master/config/sample_tpcc_config.xml\" rel=\"noopener noreferrer\" target=\"_blank\">`config.xml`</a>.\n",
    "\n",
    "The Yugabyte TPCC benchmark also supports multi-region cluster topologies row-level geo-partitioning. To see how, review the <a href=\"https://github.com/yugabyte/tpcc/blob/master/config/geopartitioned_workload.xml\" rel=\"noopener noreferrer\" target=\"_blank\">`geopartitioned_workload.xml`</a> file which illustrates how to specify tablespaces with specific placement policies.</p>\n",
    "\n",
    "See the following for more details:\n",
    "- <a href=\"https://github.com/yugabyte/tpcc\" rel=\"noopener noreferrer\" target=\"_blank\">https://github.com/yugabyte/tpcc</a>\n",
    "- <a href=\"https://docs.yugabyte.com/latest/benchmark/tpcc-ysql/\" rel=\"noopener noreferrer\" target=\"_blank\">https://docs.yugabyte.com/latest/benchmark/tpcc-ysql/</a>\n"
   ]
  },
  {
   "cell_type": "markdown",
   "metadata": {},
   "source": [
    "\n",
    "### Create the benchmark schema\n",
    "Before starting your benchmark workload, you first need to create the *TPCC* data model and then load data.\n",
    "\n",
    "Create the TPCC data model using theses arguments:\n",
    "- `--config`\n",
    "- `--create`\n",
    "- `--nodes` "
   ]
  },
  {
   "cell_type": "code",
   "execution_count": null,
   "metadata": {
    "vscode": {
     "languageId": "shellscript"
    }
   },
   "outputs": [],
   "source": [
    "%%bash -s \"$MY_TPCC_PATH\" \"$MY_DB_NAME\" \"$MY_TPPC_WORKLOAD_FILE\" \"$MY_HOST_IPv4_01\" \"$MY_HOST_IPv4_02\" \"$MY_HOST_IPv4_03\"\n",
    "\n",
    "TPCC_PATH=${1}\n",
    "DB_NAME=${2}\n",
    "TPCC_WORKLOAD_FILE=${3}\n",
    "YB_NODE_01=${4}\n",
    "YB_NODE_02=${5}\n",
    "YB_NODE_03=${6}\n",
    "\n",
    "\n",
    "cd $TPPC_PATH\n",
    "\n",
    "# terminate connections, drop, and create\n",
    "./tpccbenchmark \\\n",
    "  --config=${MY_TPPC_WORKLOAD_FILE} \\\n",
    "  --create=true \\\n",
    "  --nodes=${YB_NODE_01},${YB_NODE_02},${YB_NODE_03} \n"
   ]
  },
  {
   "cell_type": "markdown",
   "metadata": {},
   "source": [
    "### Load the benchmark data\n",
    "Load the data for the TPCC database using the following arguments:\n",
    "- `--config`\n",
    "- `--load`\n",
    "- `--nodes`\n",
    "- `--warehouses`\n",
    "- `--loaderthreads` represents the total number vCPU in your cluster. For example, `--loaderthreads=12` is for a 3 node cluster with 4 vCPU per node."
   ]
  },
  {
   "cell_type": "markdown",
   "metadata": {},
   "source": [
    "> Note:\n",
    "> \n",
    "> Depending on the vCPU of the nodes in your cluster and scale factor, the load time may be more than 10 minutes. "
   ]
  },
  {
   "cell_type": "code",
   "execution_count": null,
   "metadata": {
    "vscode": {
     "languageId": "shellscript"
    }
   },
   "outputs": [],
   "source": [
    "%%bash -s \"$MY_TPCC_PATH\" \"$MY_DB_NAME\" \"$MY_TPPC_WORKLOAD_FILE\" \"$MY_HOST_IPv4_01\" \"$MY_HOST_IPv4_02\" \"$MY_HOST_IPv4_03\"\n",
    "\n",
    "TPCC_PATH=${1}\n",
    "DB_NAME=${2}\n",
    "TPCC_WORKLOAD_FILE=${3}\n",
    "YB_NODE_01=${4}\n",
    "YB_NODE_02=${5}\n",
    "YB_NODE_03=${6}\n",
    "\n",
    "\n",
    "cd $TPPC_PATH\n",
    "\n",
    "# terminate connections, drop, and create\n",
    "./tpccbenchmark \\\n",
    "  --config=${MY_TPPC_WORKLOAD_FILE} \\\n",
    "  --load=true \\\n",
    "  --nodes=${YB_NODE_01},${YB_NODE_02},${YB_NODE_03} \\\n",
    "  --warehouses=1 \\\n",
    "  --loaderthreads=2\n"
   ]
  },
  {
   "cell_type": "markdown",
   "metadata": {},
   "source": [
    "### Run the benchmark\n",
    "\n",
    "After creating the schema and loading the data, you can now run the benchmark using the following arguments:\n",
    "- `--config`\n",
    "- `--execute`\n",
    "- `--nodes`\n",
    "- `--warehouses`\n",
    "- `--historgrams`\n",
    "\n"
   ]
  },
  {
   "cell_type": "code",
   "execution_count": null,
   "metadata": {
    "vscode": {
     "languageId": "shellscript"
    }
   },
   "outputs": [],
   "source": [
    "%%bash -s \"$MY_TPCC_PATH\" \"$MY_DB_NAME\" \"$MY_TPPC_WORKLOAD_FILE\" \"$MY_HOST_IPv4_01\" \"$MY_HOST_IPv4_02\" \"$MY_HOST_IPv4_03\"\n",
    "\n",
    "TPCC_PATH=${1}\n",
    "DB_NAME=${2}\n",
    "TPCC_WORKLOAD_FILE=${3}\n",
    "YB_NODE_01=${4}\n",
    "YB_NODE_02=${5}\n",
    "YB_NODE_03=${6}\n",
    "\n",
    "\n",
    "cd $TPPC_PATH\n",
    "\n",
    "# terminate connections, drop, and create\n",
    "./tpccbenchmark \\\n",
    "  --config=${MY_TPPC_WORKLOAD_FILE} \\\n",
    "  --execute=true \\\n",
    "  --nodes=${YB_NODE_01},${YB_NODE_02},${YB_NODE_03} \\\n",
    "  --warehouses=1 \\\n",
    "  --histograms\n"
   ]
  },
  {
   "cell_type": "markdown",
   "metadata": {},
   "source": [
    "### Review the benchmark results\n",
    "When the benchmark completes, you will be able to review the results. Here's an example:\n",
    "\n",
    "```\n",
    "14:22:21,014 (DBWorkload.java:522) INFO  -\n",
    "================RESULTS================\n",
    "             TPM-C |             126.73\n",
    "        Efficiency |             98.55%\n",
    "Throughput (req/s) |               4.75\n",
    "\n",
    "14:22:21,036 (DBWorkload.java:689) INFO  -\n",
    "======================LATENCIES (INCLUDE RETRY ATTEMPTS)=====================\n",
    " Transaction |  Count   | Avg. Latency | P99 Latency | Connection Acq Latency\n",
    "    NewOrder |     3802 |        19.19 |       48.66 |                   2.89\n",
    "     Payment |     3742 |        11.98 |       29.36 |                   0.95\n",
    " OrderStatus |      326 |         6.29 |       25.85 |                   1.57\n",
    "    Delivery |      343 |        63.33 |      184.60 |                   1.78\n",
    "  StockLevel |      338 |        20.83 |       85.70 |                   0.24\n",
    "        All  |     8551 |        17.38 |       95.43 |                   1.84\n",
    "\n",
    "14:22:21,074 (DBWorkload.java:633) INFO  -\n",
    "=======================WORKER TASK LATENCIES=======================\n",
    " Transaction |     Task     |  Count   | Avg. Latency | P99 Latency\n",
    "    NewOrder |   Fetch Work |     3802 |         0.07 |        3.79\n",
    "    NewOrder |       Keying |     3802 |     18003.74 |    18005.02\n",
    "    NewOrder |Op With Retry |     3802 |        22.31 |      228.44\n",
    "    NewOrder |     Thinking |     3802 |     11945.93 |    57887.91\n",
    "     Payment |   Fetch Work |     3776 |         0.06 |        1.27\n",
    "     Payment |       Keying |     3776 |      3003.73 |     3005.03\n",
    "     Payment |Op With Retry |     3776 |        14.06 |       85.91\n",
    "     Payment |     Thinking |     3776 |     11837.72 |    55752.92\n",
    " OrderStatus |   Fetch Work |      326 |         0.06 |        0.04\n",
    " OrderStatus |       Keying |      326 |      2003.78 |     2005.04\n",
    " OrderStatus |Op With Retry |      326 |         7.91 |       26.15\n",
    " OrderStatus |     Thinking |      326 |      9702.81 |    52510.19\n",
    "    Delivery |   Fetch Work |      343 |         0.07 |        2.45\n",
    "    Delivery |       Keying |      343 |      2003.80 |     2005.08\n",
    "    Delivery |Op With Retry |      343 |        65.14 |      278.49\n",
    "    Delivery |     Thinking |      343 |      4411.94 |    19129.31\n",
    "  StockLevel |   Fetch Work |      338 |         0.02 |        0.03\n",
    "  StockLevel |       Keying |      338 |      2003.65 |     2005.02\n",
    "  StockLevel |Op With Retry |      338 |        21.09 |       85.76\n",
    "  StockLevel |     Thinking |      338 |      5186.73 |    24646.16\n",
    "        All  |   Fetch Work |     8585 |         0.06 |        2.45\n",
    "        All  |       Keying |     8585 |      9529.42 |    18004.98\n",
    "        All  |Op with Retry |     8585 |        19.80 |      145.40\n",
    "        All  |     Thinking |     8585 |     11246.03 |    55505.03\n",
    "        All  |          All |     8585 |     20795.31 |    68765.58\n",
    "```"
   ]
  },
  {
   "cell_type": "markdown",
   "metadata": {},
   "source": [
    "In addition to the terminal output, there are two files that your can also review:\n",
    "- `output.json`, contains the results in `JSON` format\n",
    "- `results/oltpbench.csv`, contains the results in `CSV` format\n",
    "\n"
   ]
  },
  {
   "cell_type": "markdown",
   "metadata": {},
   "source": [
    "TODO... view the files"
   ]
  },
  {
   "attachments": {},
   "cell_type": "markdown",
   "metadata": {
    "deletable": false,
    "editable": false
   },
   "source": [
    "---\n",
    "# 🌟🌟 Well done! \n",
    "In this notebook, you completed the following:\n",
    "- YSQL Development\n",
    "  - Basic of DDL and DML\n",
    "  - Built-in Functions\n",
    "  - Advanced Language features\n",
    "\n",
    "\n",
    "## 😊 Next up!\n",
    "Continue your learning by opening the next notebook, `03_Demystifying_table_sharding_tablets_and_data_distribution.ipynb`. \n",
    "\n",
    "Or, to open the notebook from GitPod, run the following:"
   ]
  },
  {
   "cell_type": "code",
   "execution_count": null,
   "metadata": {
    "vscode": {
     "languageId": "shellscript"
    }
   },
   "outputs": [],
   "source": [
    "%%bash\n",
    "gp open '03_Demystifying_table_sharding_tablets_and_data_distribution.ipynb'"
   ]
  }
 ],
 "metadata": {
  "kernelspec": {
   "display_name": "Python 3.7.9 64-bit",
   "language": "python",
   "name": "python3"
  },
  "language_info": {
   "codemirror_mode": {
    "name": "ipython",
    "version": 3
   },
   "file_extension": ".py",
   "mimetype": "text/x-python",
   "name": "python",
   "nbconvert_exporter": "python",
   "pygments_lexer": "ipython3",
   "version": "3.9.16"
  },
  "orig_nbformat": 4,
  "vscode": {
   "interpreter": {
    "hash": "aee8b7b246df8f9039afb4144a1f6fd8d2ca17a180786b69acc140d282b71a49"
   }
  }
 },
 "nbformat": 4,
 "nbformat_minor": 2
}
